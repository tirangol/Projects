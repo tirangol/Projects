{
  "nbformat": 4,
  "nbformat_minor": 0,
  "metadata": {
    "colab": {
      "provenance": []
    },
    "kernelspec": {
      "name": "python3",
      "display_name": "Python 3"
    },
    "language_info": {
      "name": "python"
    }
  },
  "cells": [
    {
      "cell_type": "code",
      "source": [
        "# Project Ideas...\n",
        "# For piano pieces, left/Right hand distinguisher, melody/submelody/not melody distinguisher\n",
        "# Take piano pieces by the measure/beat, compress each into a vector and use a language model like structure to generate music?\n",
        "# Some sort of structure/motif parser\n",
        "\n",
        "# left/right hand distinguisher\n",
        "# Mp3 to midi"
      ],
      "metadata": {
        "id": "krsXFMN8kf7A"
      },
      "execution_count": null,
      "outputs": []
    },
    {
      "cell_type": "code",
      "execution_count": 77,
      "metadata": {
        "id": "flGskA-nisAb",
        "cellView": "form",
        "colab": {
          "base_uri": "https://localhost:8080/"
        },
        "outputId": "5599934d-5228-4c75-d3e3-3ebbf268d2ce"
      },
      "outputs": [
        {
          "output_type": "stream",
          "name": "stdout",
          "text": [
            "Requirement already satisfied: mido in /usr/local/lib/python3.10/dist-packages (1.3.2)\n",
            "Requirement already satisfied: packaging~=23.1 in /usr/local/lib/python3.10/dist-packages (from mido) (23.2)\n",
            "The cython extension is already loaded. To reload it, use:\n",
            "  %reload_ext cython\n"
          ]
        }
      ],
      "source": [
        "#@title Setup\n",
        "!pip install mido\n",
        "from mido import MidiFile\n",
        "import mido\n",
        "import numpy as np\n",
        "from typing import Union\n",
        "\n",
        "import librosa\n",
        "import matplotlib.pyplot as plt\n",
        "from copy import deepcopy\n",
        "\n",
        "%load_ext cython"
      ]
    },
    {
      "cell_type": "code",
      "source": [
        "#@title Audio Parsing\n",
        "\n",
        "filepath = 'symphonic dance 1.mp3'\n",
        "\n",
        "signal, sample_rate = librosa.load(filepath)\n",
        "fft = np.fft.fft(signal)\n",
        "# magnitude = np.abs(fft)\n",
        "# frequency = np.linspace(0, sample_rate, len(magnitude))\n",
        "# left_frequency = frequency[:len(frequency) // 2]\n",
        "# left_magnitude = frequency[:len(magnitude) // 2]\n",
        "\n",
        "n_fft = 2048\n",
        "hop_length = 512\n",
        "stft = librosa.core.stft(signal, hop_length=hop_length, n_fft=n_fft)\n",
        "spectrogram = np.abs(stft)\n",
        "log_spectrogram = librosa.amplitude_to_db(spectrogram)\n",
        "\n",
        "# lib.display.waveshow(signal, sr=sample_rate)\n",
        "# plt.plot(frequency, magnitude)\n",
        "# librosa.display.specshow(log_spectrogram, sr=sample_rate, hop_length=hop_length)"
      ],
      "metadata": {
        "cellView": "form",
        "id": "p1sDqzp-6wOY"
      },
      "execution_count": null,
      "outputs": []
    },
    {
      "cell_type": "code",
      "source": [
        "#@title MIDI Parsing\n",
        "# https://mido.readthedocs.io/en/stable/files/midi.html?highlight=time#about-the-time-attribute\n",
        "# https://music.stackexchange.com/questions/99362/time-in-midi-files\n",
        "# https://cmtext.indiana.edu/MIDI/chapter3_controller_change2.php\n",
        "\n",
        "def parse_midi(filepath: str, debug: bool = False) -> tuple[np.ndarray]:\n",
        "    midi = MidiFile(filepath)\n",
        "    ticks_per_beat = midi.ticks_per_beat\n",
        "    track = mido.merge_tracks(midi.tracks)\n",
        "\n",
        "    time_signatures = []    # [symbol, time, realtime]\n",
        "    key_signatures = []     # [key, time, realtime]\n",
        "    tempos = []             # [tempo, time, realtime]\n",
        "    pedals = []             # [on time, duration, on realtime, duration realtime]\n",
        "    notes = []              # [note, velocity, start time, duration, start realtime, duration realtime]\n",
        "    time = 0                # in terms of ticks/PPQ, invariant to tempo\n",
        "    real_time = 0           # in seconds\n",
        "\n",
        "    curr_notes = {}\n",
        "    def parse_note(message) -> None:\n",
        "        if message.velocity > 0:\n",
        "            notes.append([message.note, message.velocity, time, -1, real_time, -1])\n",
        "            curr_notes[message.note] = len(notes) - 1\n",
        "        elif message.note in curr_notes:\n",
        "            i = curr_notes[message.note]\n",
        "            notes[i][3] = time - notes[i][2]\n",
        "            notes[i][5] = real_time - notes[i][4]\n",
        "            del curr_notes[message.note]\n",
        "\n",
        "    def parse_tempo(message) -> None:\n",
        "        if len(tempos) > 0 and tempos[-1][1] == time:\n",
        "            tempos[-1][0] = message.tempo\n",
        "        else:\n",
        "            tempos.append([message.tempo, time, real_time])\n",
        "\n",
        "    def parse_pedal(message) -> None:\n",
        "        on = message.value >= 64\n",
        "        if on:\n",
        "            if len(pedals) > 0 and pedals[-1][1] == 0:\n",
        "                pedals[-1][0] = time\n",
        "                pedals[-1][1] = -1\n",
        "                pedals[-1][2] = real_time\n",
        "            else:\n",
        "                pedals.append([time, -1, real_time, -1])\n",
        "        elif pedals[-1][1] == -1:\n",
        "            pedals[-1][1] = time - pedals[-1][0]\n",
        "            pedals[-1][3] = real_time - pedals[-1][2]\n",
        "\n",
        "    def parse_time_signature(message) -> None:\n",
        "        symbol = f'{message.numerator}/{message.denominator}'\n",
        "        if len(time_signatures) > 0 and time_signatures[-1][1] == time:\n",
        "            time_signatures[-1][0] = symbol\n",
        "        else:\n",
        "            time_signatures.append([symbol, time, real_time])\n",
        "\n",
        "    def parse_key_signature(message) -> None:\n",
        "        if len(key_signatures) > 0 and key_signatures[-1][1] == time:\n",
        "            key_signatures[-1][0] = message.key\n",
        "        else:\n",
        "            key_signatures.append([message.key, time, real_time])\n",
        "\n",
        "    for i, message in enumerate(track):\n",
        "        time += message.time\n",
        "        if len(tempos) > 0:\n",
        "            real_time += mido.tick2second(message.time, ticks_per_beat, tempos[-1][0])\n",
        "        instruction = message.type\n",
        "\n",
        "        if instruction == 'note_on':\n",
        "            parse_note(message)\n",
        "        elif instruction == 'set_tempo':\n",
        "            parse_tempo(message)\n",
        "        elif instruction == 'control_change' and message.control == 64:\n",
        "            parse_pedal(message)\n",
        "        elif instruction == 'time_signature':\n",
        "            parse_time_signature(message)\n",
        "        elif instruction == 'key_signature':\n",
        "            parse_key_signature(message)\n",
        "        elif debug:\n",
        "            print(message)\n",
        "    # assert len(curr_notes) == 0\n",
        "    # notes = [x for x in notes if x[3] > 0]  # Zero-length notes\n",
        "    return np.array(notes), np.array(pedals), np.array(tempos), key_signatures, time_signatures\n",
        "\n",
        "\n",
        "def notes_to_chords(notes: np.ndarray) -> tuple[list[np.ndarray], list[int]]:\n",
        "    chords = []\n",
        "    indices = []\n",
        "    time = 0\n",
        "    curr_chord = []\n",
        "    index = 0\n",
        "    for i, note in enumerate(notes[:, :3].astype(int)):\n",
        "        curr_note = note[0]\n",
        "        curr_time = note[2]\n",
        "        if time == curr_time:\n",
        "            curr_chord.append(curr_note)\n",
        "        else:\n",
        "            if i > 0:\n",
        "                chords.append(np.array(sorted(curr_chord)))\n",
        "                indices.append(index)\n",
        "                index = i\n",
        "            curr_chord = [curr_note]\n",
        "        time = curr_time\n",
        "    return chords, indices"
      ],
      "metadata": {
        "cellView": "form",
        "id": "t9FWGdwg9cm5"
      },
      "execution_count": 3,
      "outputs": []
    },
    {
      "cell_type": "code",
      "source": [
        "notes, pedals, tempos, key_signatures, time_signatures = parse_midi('symphonic dance 1.mid')"
      ],
      "metadata": {
        "id": "WMDlTo1jL9c3"
      },
      "execution_count": 4,
      "outputs": []
    },
    {
      "cell_type": "code",
      "source": [
        "chords, indices = notes_to_chords(notes)"
      ],
      "metadata": {
        "id": "0hVIX9wiNS9Y"
      },
      "execution_count": 5,
      "outputs": []
    },
    {
      "cell_type": "code",
      "source": [
        "cpdef inline float interval_playability(interval: float, f1: int, f2: int, right_hand: bool = True):"
      ],
      "metadata": {
        "id": "or66iFv2AaQb"
      },
      "execution_count": null,
      "outputs": []
    },
    {
      "cell_type": "code",
      "source": [
        "interval_playability(key_distance('Eb3', 'Gb4'), 4, 0, False)"
      ],
      "metadata": {
        "colab": {
          "base_uri": "https://localhost:8080/"
        },
        "id": "-oAKOu08AahY",
        "outputId": "f2e90f0b-b840-42e4-b2c9-e35b714995d7"
      },
      "execution_count": 108,
      "outputs": [
        {
          "output_type": "execute_result",
          "data": {
            "text/plain": [
              "0.018181540071964264"
            ]
          },
          "metadata": {},
          "execution_count": 108
        }
      ]
    },
    {
      "cell_type": "code",
      "source": [
        "key_distance('Eb3', 'Gb4', True)"
      ],
      "metadata": {
        "colab": {
          "base_uri": "https://localhost:8080/"
        },
        "id": "CizBF2FaAquZ",
        "outputId": "1e930e0d-0762-4243-b278-f8cc52699728"
      },
      "execution_count": 100,
      "outputs": [
        {
          "output_type": "execute_result",
          "data": {
            "text/plain": [
              "20.400001525878906"
            ]
          },
          "metadata": {},
          "execution_count": 100
        }
      ]
    },
    {
      "cell_type": "code",
      "source": [
        "#@title Physical Chord Modelling, Cython\n",
        "\n",
        "%%cython\n",
        "import numpy as np\n",
        "cimport numpy as cnp\n",
        "cnp.import_array()\n",
        "\n",
        "cdef float white_key_len = 33 / 14         # Length of a white key\n",
        "cdef float black_key_len = 1               # Length of a black key\n",
        "cdef float black_key_offset = 1.45         # Distance from C to C#\n",
        "cdef float octave_len = white_key_len * 7\n",
        "\n",
        "# key.left, assuming C.left is 0\n",
        "int_positions = {\n",
        "    0: 0,                                                       # C\n",
        "    1: black_key_offset,                                        # C#\n",
        "    2: white_key_len,                                           # D\n",
        "    3: 3 * white_key_len - black_key_offset - black_key_len,    # Eb\n",
        "    4: 2 * white_key_len,                                       # E\n",
        "    5: 3 * white_key_len,                                       # F\n",
        "    6: 3 * white_key_len + black_key_offset,                    # F#\n",
        "    7: 4 * white_key_len,                                       # G\n",
        "    8: (9 * white_key_len - black_key_len) / 2,                 # Ab\n",
        "    9: 5 * white_key_len,                                       # A\n",
        "    10: 7 * white_key_len - black_key_offset - black_key_len,   # Bb\n",
        "    11: 6 * white_key_len,                                      # B\n",
        "}\n",
        "letter_to_int = {\n",
        "    'C': 0,\n",
        "    'D': 2,\n",
        "    'E': 4,\n",
        "    'F': 5,\n",
        "    'G': 7,\n",
        "    'A': 9,\n",
        "    'B': 11\n",
        "}\n",
        "cdef list[str] letters = ['C', 'C#', 'D', 'Eb', 'E', 'F', 'F#', 'G', 'Ab', 'A', 'Bb', 'B']\n",
        "cpdef inline str int_to_key(k: int):\n",
        "    cdef int octave, base_int\n",
        "    cdef str letter\n",
        "\n",
        "    octave, base_int = divmod(k, 12)\n",
        "    letter = letters[base_int]\n",
        "    return f'{letter}{octave}'\n",
        "\n",
        "\n",
        "cpdef inline int key_to_int(key: str):\n",
        "    cdef int base, i, len_key, octave\n",
        "    cdef char letter\n",
        "\n",
        "    base = letter_to_int[key[0]]\n",
        "    i = 1\n",
        "    len_key = len(key)\n",
        "    if i == len_key:\n",
        "        return base\n",
        "    letter = key[i]\n",
        "    while letter == b'#' or letter == b'b':\n",
        "        base += 1 if letter == b'#' else -1\n",
        "        i += 1\n",
        "        if i == len_key:\n",
        "            return base\n",
        "        letter = key[i]\n",
        "    octave = int(key[i:])\n",
        "    return octave * 12 + base\n",
        "\n",
        "\n",
        "cpdef inline int is_white_key(input_key: Union[str, int]):\n",
        "    cdef int key\n",
        "    key = key_to_int(input_key) if isinstance(input_key, str) else input_key\n",
        "    key = key % 12\n",
        "    return key in letter_to_int.values()\n",
        "\n",
        "\n",
        "cpdef inline float key_len(key: Union[str, int]):\n",
        "    return white_key_len if is_white_key(key) else black_key_len\n",
        "\n",
        "\n",
        "cpdef inline float key_distance(input_k1: Union[str, int], input_k2: Union[str, int],\n",
        "                                use_average: bool = True,\n",
        "                                left_outer: bool = False, right_outer: bool = False):\n",
        "    \"\"\"Find physical distance between two piano keys.\n",
        "\n",
        "    left_outer: use the leftmost/rightmost position of the left key\n",
        "    right_outer: use the leftmost/rightmost position of the right key\n",
        "    use_average: use the middle position of the left/right key\n",
        "    \"\"\"\n",
        "    cdef int k1, k2, octave1, octave2, octave_diff\n",
        "    cdef float left_limit, right_limit\n",
        "\n",
        "    k1 = key_to_int(input_k1) if isinstance(input_k1, str) else input_k1\n",
        "    k2 = key_to_int(input_k2) if isinstance(input_k2, str) else input_k2\n",
        "    (k1, k2) = (k1, k2) if k1 <= k2 else (k2, k1)\n",
        "\n",
        "    octave1, k1 = divmod(k1, 12)\n",
        "    octave2, k2 = divmod(k2, 12)\n",
        "    octave_diff = octave2 - octave1\n",
        "\n",
        "    left_limit = int_positions[k1]\n",
        "    right_limit = int_positions[k2]\n",
        "    if use_average:\n",
        "        left_limit += key_len(k1) / 2\n",
        "        right_limit += key_len(k2) / 2\n",
        "    else:\n",
        "        if not left_outer:\n",
        "            left_limit += key_len(k1)\n",
        "        if right_outer:\n",
        "            right_limit += key_len(k2)\n",
        "    return right_limit - left_limit + octave_diff * octave_len\n",
        "\n",
        "\n",
        "# finger_distances[i, j] = farthest distance reachable from finger i (left) to j (right)\n",
        "# assumes thumb can touch the piano during the distance measurement\n",
        "cdef cnp.ndarray right_finger_distances = np.array(\n",
        "    [[4.5,  16.2, 19,   19.4, 20.5],\n",
        "     [12.2, 1.3,  8.6,  10.7, 14.3],\n",
        "     [12.6, 7.2,  1.5,  7.9,  12.8],\n",
        "     [10.8, 6.3,  2.3,  1.3,  8.1],\n",
        "     [8,    2,    0,    0,    1.1]]\n",
        ")\n",
        "cdef cnp.ndarray left_finger_distances = right_finger_distances.T\n",
        "\n",
        "# finger_comfortable_range[i, j] = min comfortable distance from finger i to j\n",
        "# finger_comfortable_range[j, i] = max comfortable distance from finger i to j\n",
        "cdef cnp.ndarray finger_comfortable_range = np.array(\n",
        "    [[2.5,  2.7, 6.5, 8,   10],\n",
        "     [4.8,  0.7, 2,   4.5, 6],\n",
        "     [9,    4.1, 0.7, 2.8, 4],\n",
        "     [11.2, 6.5, 3.5, 0.7, 2.1],\n",
        "     [15,   8.6, 5.7, 3.5, 0.5]]\n",
        ")\n",
        "\n",
        "\n",
        "################################################################################\n",
        "# Playability\n",
        "################################################################################\n",
        "cpdef inline float interval_playability(interval: float, f1: int, f2: int, right_hand: bool = True):\n",
        "    \"\"\"Return a score in [0, 1] indicating how comfortably an interval played by\n",
        "    fingers f1 (left) and f2 (right) on a given hand.\n",
        "\n",
        "    Unplayable intervals have score -inf.\n",
        "    \"\"\"\n",
        "    cdef float i1, i2, max_limit, penalty\n",
        "\n",
        "    i1 = finger_comfortable_range[f1, f2]\n",
        "    i2 = finger_comfortable_range[f2, f1]\n",
        "    if right_hand:\n",
        "        max_limit = right_finger_distances[f1, f2]\n",
        "    else:\n",
        "        max_limit = left_finger_distances[f1, f2]\n",
        "    penalty = 1 if ((f1 <= f2) == right_hand) else 0.5\n",
        "\n",
        "    i1, i2 = min(i1, i2), max(i1, i2)\n",
        "    if i1 <= interval <= i2:\n",
        "        return penalty\n",
        "    elif 0 <= interval < i1:\n",
        "        return penalty * interval / i1\n",
        "    elif i2 < interval <= max_limit:\n",
        "        return penalty * (max_limit - interval) / (max_limit - i2)\n",
        "    return -np.inf\n",
        "\n",
        "\n",
        "cpdef inline float chord_note_playability(finger: int, sorted_chord: cnp.ndarray,\n",
        "                                          fingering: list[int], right_hand: bool = True):\n",
        "    \"\"\"Similar to interval_playability, but for a given finger playing a\n",
        "    certain index of a sorted_chord.\n",
        "    \"\"\"\n",
        "    cdef float score, penalty, interval, playability\n",
        "    cdef int index, chord_key, i, f, key, j\n",
        "    cdef bint is_white\n",
        "\n",
        "    index = len(fingering)\n",
        "    if index == 0:\n",
        "        return 1\n",
        "    score = np.infty\n",
        "\n",
        "    chord_key = sorted_chord[index]\n",
        "    for i in range(index):\n",
        "        f = fingering[i]\n",
        "        key = sorted_chord[i]\n",
        "\n",
        "        penalty = 1\n",
        "        if f == finger:\n",
        "            is_white = is_white_key(key)\n",
        "            if is_white != is_white_key(chord_key):\n",
        "                return -np.infty\n",
        "\n",
        "            for j in range(key, chord_key):\n",
        "                if j not in sorted_chord and (j % 12 in letter_to_int.values()) == is_white:\n",
        "                    return -np.infty\n",
        "            penalty = 0.8\n",
        "\n",
        "        interval = key_distance(key, chord_key, use_average=True)\n",
        "        playability = interval_playability(interval, f, finger, right_hand) * penalty\n",
        "        if playability < score:\n",
        "            score = playability\n",
        "    return score\n",
        "\n",
        "cdef inline list[float] _optimal_chord_fingering(sorted_chord: cnp.ndarray,\n",
        "                                                  right_hand: bool,\n",
        "                                                  first_note: int,\n",
        "                                                  fingering: list[float]):\n",
        "    \"\"\"Top-down dynamic programming algorithm for maximizing playability.\"\"\"\n",
        "    cdef list[float] max_fingering\n",
        "    cdef int n, f\n",
        "    cdef float max_score, new_score, score\n",
        "\n",
        "    n = sorted_chord.shape[0]\n",
        "    max_score = -np.inf\n",
        "    max_fingering = []\n",
        "\n",
        "    for f in range(5):\n",
        "        score = chord_note_playability(f, sorted_chord, fingering, right_hand)\n",
        "        if score == -np.inf:\n",
        "            continue\n",
        "        if first_note == n - 1:\n",
        "            new_fingering, new_score = fingering + [f], score\n",
        "        else:\n",
        "            new_fingering = _optimal_chord_fingering(sorted_chord, right_hand,\n",
        "                                                      first_note + 1,\n",
        "                                                      fingering + [f])\n",
        "            new_score = new_fingering.pop()\n",
        "            new_score = min(score, new_score)\n",
        "\n",
        "        if new_score > max_score:\n",
        "            max_fingering = new_fingering\n",
        "            max_score = new_score\n",
        "    return max_fingering + [max_score]\n",
        "\n",
        "\n",
        "cdef inline list[float] optimal_chord_fingering(input_sorted_chord: Union[cnp.ndarray, list[str]],\n",
        "                                                 right_hand: bool = True):\n",
        "    \"\"\"Return a fingering of the same shape of sorted_chord that maximizes the\n",
        "    playability score of the given chord. If unplayable, the array is all -1.\n",
        "\n",
        "    Also returns the playability score.\n",
        "    \"\"\"\n",
        "    cdef cnp.ndarray sorted_chord\n",
        "    cdef float opt_score\n",
        "\n",
        "    if isinstance(input_sorted_chord[0], str):\n",
        "        sorted_chord = np.array([key_to_int(x) for x in input_sorted_chord])\n",
        "    else:\n",
        "        sorted_chord = input_sorted_chord\n",
        "\n",
        "    return _optimal_chord_fingering(sorted_chord, right_hand, 0, [])\n",
        "\n",
        "\n",
        "def memoized_optimal_chord_fingering(sorted_chord: Union[np.ndarray, list[str]],\n",
        "                                     right_hand: bool = True) -> tuple[np.ndarray, float]:\n",
        "    stored_optimal_chord_fingerings = {}\n",
        "    s = str(sorted_chord) + str(right_hand)\n",
        "    if s in stored_optimal_chord_fingerings:\n",
        "        return stored_optimal_chord_fingerings[s]\n",
        "    else:\n",
        "        fingering = optimal_chord_fingering(sorted_chord, right_hand)\n",
        "        score = fingering.pop()\n",
        "        stored_optimal_chord_fingerings[s] = (np.array(fingering).astype(int), score)\n",
        "        return stored_optimal_chord_fingerings[s]"
      ],
      "metadata": {
        "id": "rnve47RUWYEW",
        "colab": {
          "base_uri": "https://localhost:8080/"
        },
        "outputId": "8befa68d-9cde-438f-866f-46e3c86a12de",
        "cellView": "form"
      },
      "execution_count": 132,
      "outputs": [
        {
          "output_type": "stream",
          "name": "stderr",
          "text": [
            "warning: /root/.cache/ipython/cython/_cython_magic_b8e93bdf88b51d01dacd8e0c598b2ec7bf9430c6.pyx:48:24: Item lookup of unicode character codes now always converts to a Unicode string. Use an explicit C integer cast to get back the previous integer lookup behaviour.\n"
          ]
        },
        {
          "output_type": "stream",
          "name": "stdout",
          "text": [
            "Content of stderr:\n",
            "In file included from /usr/local/lib/python3.10/dist-packages/numpy/core/include/numpy/ndarraytypes.h:1948,\n",
            "                 from /usr/local/lib/python3.10/dist-packages/numpy/core/include/numpy/ndarrayobject.h:12,\n",
            "                 from /usr/local/lib/python3.10/dist-packages/numpy/core/include/numpy/arrayobject.h:5,\n",
            "                 from /root/.cache/ipython/cython/_cython_magic_b8e93bdf88b51d01dacd8e0c598b2ec7bf9430c6.c:1257:\n",
            "/usr/local/lib/python3.10/dist-packages/numpy/core/include/numpy/npy_1_7_deprecated_api.h:17:2: warning: #warning \"Using deprecated NumPy API, disable it with \" \"#define NPY_NO_DEPRECATED_API NPY_1_7_API_VERSION\" [-Wcpp]\n",
            "   17 | #warning \"Using deprecated NumPy API, disable it with \" \\\n",
            "      |  ^~~~~~~"
          ]
        }
      ]
    },
    {
      "cell_type": "code",
      "source": [
        "#@title Physical Chord Modelling\n",
        "\n",
        "# Data measured in cm\n",
        "white_key_len = 33 / 14         # Length of a white key\n",
        "black_key_len = 1               # Length of a black key\n",
        "black_key_offset = 1.45         # Distance from C to C#\n",
        "octave_len = white_key_len * 7\n",
        "\n",
        "# key.left, assuming C.left is 0\n",
        "int_positions = {\n",
        "    0: 0,                                                       # C\n",
        "    1: black_key_offset,                                        # C#\n",
        "    2: white_key_len,                                           # D\n",
        "    3: 3 * white_key_len - black_key_offset - black_key_len,    # Eb\n",
        "    4: 2 * white_key_len,                                       # E\n",
        "    5: 3 * white_key_len,                                       # F\n",
        "    6: 3 * white_key_len + black_key_offset,                    # F#\n",
        "    7: 4 * white_key_len,                                       # G\n",
        "    8: (9 * white_key_len - black_key_len) / 2,                 # Ab\n",
        "    9: 5 * white_key_len,                                       # A\n",
        "    10: 7 * white_key_len - black_key_offset - black_key_len,   # Bb\n",
        "    11: 6 * white_key_len,                                      # B\n",
        "}\n",
        "\n",
        "letter_to_int = {\n",
        "    'C': 0,\n",
        "    'D': 2,\n",
        "    'E': 4,\n",
        "    'F': 5,\n",
        "    'G': 7,\n",
        "    'A': 9,\n",
        "    'B': 11\n",
        "}\n",
        "letters = ['C', 'C#', 'D', 'Eb', 'E', 'F', 'F#', 'G', 'Ab', 'A', 'Bb', 'B']\n",
        "def int_to_key(k: int) -> str:\n",
        "    octave, base_int = divmod(k, 12)\n",
        "    letter = letters[base_int]\n",
        "    return f'{letter}{octave}'\n",
        "\n",
        "def key_to_int(key: str) -> int:\n",
        "    base = letter_to_int[key[0]]\n",
        "    i = 1\n",
        "    if i == len(key):\n",
        "        return base\n",
        "    while key[i] in '#b':\n",
        "        base += 1 if key[i] == '#' else -1\n",
        "        i += 1\n",
        "        if i == len(key):\n",
        "            return base\n",
        "    octave = int(key[i:])\n",
        "    return octave * 12 + base\n",
        "\n",
        "def is_white_key(key: Union[str, int]) -> int:\n",
        "    if isinstance(key, str):\n",
        "        key = key_to_int(key)\n",
        "    return (key % 12) in letter_to_int.values()\n",
        "\n",
        "def key_len(key: Union[str, int]) -> int:\n",
        "    return white_key_len if is_white_key(key) else black_key_len\n",
        "\n",
        "def key_distance(k1: Union[str, int], k2: Union[str, int],\n",
        "                 use_average: bool = True,\n",
        "                 left_outer: bool = False, right_outer: bool = False) -> float:\n",
        "    \"\"\"Find physical distance between two piano keys.\n",
        "\n",
        "    left_outer: use the leftmost/rightmost position of the left key\n",
        "    right_outer: use the leftmost/rightmost position of the right key\n",
        "    use_average: use the middle position of the left/right key\n",
        "    \"\"\"\n",
        "    if isinstance(k1, str):\n",
        "        k1 = key_to_int(k1)\n",
        "    if isinstance(k2, str):\n",
        "        k2 = key_to_int(k2)\n",
        "\n",
        "    (k1, k2) = (k1, k2) if k1 <= k2 else (k2, k1)\n",
        "    octave1, k1 = divmod(k1, 12)\n",
        "    octave2, k2 = divmod(k2, 12)\n",
        "    octave_diff = octave2 - octave1\n",
        "\n",
        "    left_limit = int_positions[k1]\n",
        "    right_limit = int_positions[k2]\n",
        "    if use_average:\n",
        "        left_limit += key_len(k1) / 2\n",
        "        right_limit += key_len(k2) / 2\n",
        "    else:\n",
        "        if not left_outer:\n",
        "            left_limit += key_len(k1)\n",
        "        if right_outer:\n",
        "            right_limit += key_len(k2)\n",
        "    return right_limit - left_limit + octave_diff * octave_len\n",
        "\n",
        "\n",
        "# finger_distances[i, j] = farthest distance reachable from finger i (left) to j (right)\n",
        "# assumes thumb can touch the piano during the distance measurement\n",
        "right_finger_distances = np.array(\n",
        "    [[4.5,  16.2, 19,   19.4, 20.5],\n",
        "     [12.2, 1.3,  8.6,  10.7, 14.3],\n",
        "     [12.6, 7.2,  1.5,  7.9,  12.8],\n",
        "     [10.8, 6.3,  2.3,  1.3,  8.1],\n",
        "     [8,    2,    0,    0,    1.1]]\n",
        ")\n",
        "left_finger_distances = right_finger_distances.T\n",
        "\n",
        "# finger_comfortable_range[i, j] = min comfortable distance from finger i to j\n",
        "# finger_comfortable_range[j, i] = max comfortable distance from finger i to j\n",
        "finger_comfortable_range = np.array(\n",
        "    [[2.5,  2.7, 6.5, 8,   10],\n",
        "     [4.8,  0.7, 2,   4.5, 6],\n",
        "     [9,    4.1, 0.7, 2.8, 4],\n",
        "     [11.2, 6.5, 3.5, 0.7, 2.1],\n",
        "     [15,   8.6, 5.7, 3.5, 0.5]]\n",
        ")\n",
        "\n",
        "\n",
        "################################################################################\n",
        "# Playability\n",
        "################################################################################\n",
        "def interval_playability(interval: float, f1: int, f2: int, right_hand: bool = True) -> float:\n",
        "    \"\"\"Return a score in [0, 1] indicating how comfortably an interval played by\n",
        "    fingers f1 (left) and f2 (right) on a given hand.\n",
        "\n",
        "    Unplayable intervals have score -inf.\n",
        "    \"\"\"\n",
        "    i1 = finger_comfortable_range[f1, f2]\n",
        "    i2 = finger_comfortable_range[f2, f1]\n",
        "    if right_hand:\n",
        "        max_limit = right_finger_distances[f1, f2]\n",
        "    else:\n",
        "        max_limit = left_finger_distances[f1, f2]\n",
        "    penalty = 1 if ((f1 <= f2) == right_hand) else 0.5\n",
        "    # print(f'interval={interval}, limit={max_limit}, f1={f1}, f2={f2}, right_hand={right_hand}, penalty={penalty}')\n",
        "    i1, i2 = min(i1, i2), max(i1, i2)\n",
        "    if i1 <= interval <= i2:\n",
        "        return penalty\n",
        "    elif 0 <= interval < i1:\n",
        "        return penalty * interval / i1\n",
        "    elif i2 < interval <= max_limit:\n",
        "        return penalty * (max_limit - interval) / (max_limit - i2)\n",
        "    return -np.inf\n",
        "\n",
        "\n",
        "# def chord_note_playability(index: int, finger: int, sorted_chord: np.ndarray,\n",
        "#                            right_hand: bool = True) -> float:\n",
        "#     \"\"\"Similar to interval_playability, but for a given finger playing a\n",
        "#     certain index of a sorted_chord.\n",
        "#     \"\"\"\n",
        "#     assert sorted_chord[1, index] == -1\n",
        "#     # print(f'{index}, {finger}, {sorted_chord.tolist()}, {right_hand}')\n",
        "#     if index == 0:\n",
        "#         return 1\n",
        "#     sum = 0\n",
        "#     counter = 0\n",
        "#     for i, f in enumerate(sorted_chord[1, :]):\n",
        "#         if f == -1:\n",
        "#             assert i >= index\n",
        "#             break\n",
        "#         key1 = sorted_chord[0, i]\n",
        "#         key2 = sorted_chord[0, index]\n",
        "#         penalty = 1\n",
        "\n",
        "#         if f == finger:\n",
        "#             is_white = is_white_key(key1)\n",
        "#             j1 = sorted_chord[0, min(i, index)]\n",
        "#             j2 = sorted_chord[0, max(i, index)]\n",
        "\n",
        "#             # The same finger can't play a black & white note simultaneously\n",
        "#             if is_white != is_white_key(key2):\n",
        "#                 # print('black/white')\n",
        "#                 return -np.infty\n",
        "#             # The same finger can only play adjacent white/black note clusters\n",
        "#             if is_white and any(j not in sorted_chord for j in range(j1, j2) if j in letter_to_int.values()):\n",
        "#                 # print('white note cluster')\n",
        "#                 return -np.infty\n",
        "#             if not is_white and any(j not in sorted_chord for j in range(j1, j2) if j not in letter_to_int.values()):\n",
        "#                 # print('black note cluster')\n",
        "#                 return -np.infty\n",
        "#             penalty = 0.8\n",
        "\n",
        "#         interval = key_distance(key1, key2, True)\n",
        "#         # print(interval_playability(interval, f, finger, right_hand) * penalty)\n",
        "#         sum += interval_playability(interval, f, finger, right_hand) * penalty\n",
        "#         counter += 1\n",
        "#     return sum / counter\n",
        "\n",
        "\n",
        "# def optimal_chord_fingering(sorted_chord: Union[np.ndarray, list[str]],\n",
        "#                             right_hand: bool = True) -> tuple[np.ndarray, float]:\n",
        "#     \"\"\"Return a fingering of the same shape of sorted_chord that maximizes the\n",
        "#     playability score of the given chord. If unplayable, the array is all -1.\n",
        "\n",
        "#     Also returns the playability score.\n",
        "#     \"\"\"\n",
        "#     if isinstance(sorted_chord[0], str):\n",
        "#         sorted_chord = np.array([key_to_int(x) for x in sorted_chord])\n",
        "#     n = sorted_chord.shape[0]\n",
        "#     row_finger = np.empty((1, n))\n",
        "#     row_finger.fill(-1)\n",
        "#     sorted_chord = np.concatenate([sorted_chord.reshape(1, n), row_finger], axis=0).astype(int)\n",
        "\n",
        "#     def _optimal_chord_fingering(first_note: int, chord: np.ndarray) -> tuple[np.ndarray, float]:\n",
        "#         \"\"\"Top-down dynamic programming algorithm for maximizing playability.\"\"\"\n",
        "#         max_score = -np.inf\n",
        "#         max_i = -1\n",
        "#         # a = int_to_key(chord[0, first_note])\n",
        "#         # print(f'Start {a}, {first_note}')\n",
        "#         iterator = range(5) if right_hand else range(4, -1, -1)\n",
        "#         if first_note == n - 1:\n",
        "#             new_chord = deepcopy(chord)\n",
        "#             for i in iterator:\n",
        "#                 score = chord_note_playability(first_note, i, chord, right_hand)\n",
        "#                 # print(f'{first_note}, {i}, {chord.tolist()}, {right_hand} = {score}')\n",
        "#                 if score > max_score:\n",
        "#                     max_i = i\n",
        "#                     max_score = score\n",
        "#             new_chord[1, first_note] = max_i\n",
        "#             # print(f'End {a}, {first_note}\\n')\n",
        "#             return new_chord, max_score\n",
        "#         else:\n",
        "#             max_chord = None\n",
        "#             for i in iterator:\n",
        "#                 score = chord_note_playability(first_note, i, chord, right_hand)\n",
        "#                 # print(f'{first_note}, {i}, {chord.tolist()}, {right_hand} = {score}')\n",
        "#                 if score == -np.infty:\n",
        "#                     continue\n",
        "\n",
        "#                 new_chord = deepcopy(chord)\n",
        "#                 new_chord[1, first_note] = i\n",
        "#                 curr_chord, curr_score = _optimal_chord_fingering(first_note + 1, new_chord)\n",
        "#                 curr_score = min(curr_score, score)\n",
        "#                 if curr_score > max_score:\n",
        "#                     max_i = i\n",
        "#                     max_score = curr_score\n",
        "#                     max_chord = curr_chord\n",
        "#             # print(f'End {a}, {first_note}\\n')\n",
        "#             # print(f'optimal {first_note}: {max_i}')\n",
        "#             return max_chord, max_score\n",
        "\n",
        "#     final_chord, final_score = _optimal_chord_fingering(0, sorted_chord)\n",
        "#     if final_score == -np.inf:\n",
        "#         return sorted_chord[1, :], final_score\n",
        "\n",
        "#     return final_chord[1, :], final_score\n",
        "\n",
        "\n",
        "def chord_note_playability(finger: int, sorted_chord: np.ndarray,\n",
        "                           fingering: list[int], right_hand: bool = True) -> float:\n",
        "    \"\"\"Similar to interval_playability, but for a given finger playing a\n",
        "    certain index of a sorted_chord.\n",
        "    \"\"\"\n",
        "    index = len(fingering)\n",
        "    # assert all(x == -1 for x in fingering[index:])\n",
        "    if index == 0:\n",
        "        return 1\n",
        "    score = np.infty\n",
        "\n",
        "    chord_key = sorted_chord[index]\n",
        "    for i in range(index):\n",
        "        f = fingering[i]\n",
        "        key = sorted_chord[i]\n",
        "\n",
        "        penalty = 1\n",
        "        if f == finger:\n",
        "            is_white = is_white_key(key)\n",
        "            # The same finger can't play a black & white note simultaneously\n",
        "            if is_white != is_white_key(chord_key):\n",
        "                return -np.infty\n",
        "            # The same finger can only play adjacent white/black note clusters\n",
        "            if is_white and any(j not in sorted_chord for j in range(key, chord_key) \\\n",
        "                                if j % 12 in letter_to_int.values()):\n",
        "                return -np.infty\n",
        "            if not is_white and any(j not in sorted_chord for j in range(key, chord_key) \\\n",
        "                                    if j % 12 not in letter_to_int.values()):\n",
        "                return -np.infty\n",
        "            penalty = 0.8\n",
        "\n",
        "        interval = key_distance(key, chord_key, use_average=True)\n",
        "        playability = interval_playability(interval, f, finger, right_hand) * penalty\n",
        "        if playability < score:\n",
        "            score = playability\n",
        "    return score\n",
        "\n",
        "\n",
        "def optimal_chord_fingering(sorted_chord: Union[np.ndarray, list[str]],\n",
        "                            right_hand: bool = True) -> tuple[np.ndarray, float]:\n",
        "    \"\"\"Return a fingering of the same shape of sorted_chord that maximizes the\n",
        "    playability score of the given chord. If unplayable, the array is all -1.\n",
        "\n",
        "    Also returns the playability score.\n",
        "    \"\"\"\n",
        "    if isinstance(sorted_chord[0], str):\n",
        "        sorted_chord = np.array([key_to_int(x) for x in sorted_chord])\n",
        "    n = sorted_chord.shape[0]\n",
        "\n",
        "    def _optimal_chord_fingering(first_note: int, fingering: list[int]) -> tuple[list[int], float]:\n",
        "        \"\"\"Top-down dynamic programming algorithm for maximizing playability.\"\"\"\n",
        "        # print(f'OPT, first_note={first_note}, fingering={fingering}')\n",
        "        max_score = -np.inf\n",
        "        max_fingering = None\n",
        "\n",
        "        for f in range(5):\n",
        "            score = chord_note_playability(f, sorted_chord, fingering, right_hand)\n",
        "            if score == -np.inf:\n",
        "                continue\n",
        "            if first_note == n - 1:\n",
        "                new_fingering, new_score = fingering + [f], score\n",
        "            else:\n",
        "                new_fingering, new_score = _optimal_chord_fingering(first_note + 1, fingering + [f])\n",
        "                new_score = min(score, new_score)\n",
        "\n",
        "            if new_score > max_score:\n",
        "                max_fingering = new_fingering\n",
        "                max_score = new_score\n",
        "        # print(f'RESULT: {max_fingering}, {max_score}')\n",
        "        return max_fingering, max_score\n",
        "\n",
        "    fingering, score = _optimal_chord_fingering(0, [])\n",
        "    return np.array(fingering), score\n",
        "\n",
        "\n",
        "def memoized_optimal_chord_fingering(sorted_chord: Union[np.ndarray, list[str]],\n",
        "                                     right_hand: bool = True) -> tuple[np.ndarray, float]:\n",
        "    stored_optimal_chord_fingerings = {}\n",
        "    s = str(sorted_chord) + str(right_hand)\n",
        "    if s in stored_optimal_chord_fingerings:\n",
        "        return stored_optimal_chord_fingerings[s]\n",
        "    else:\n",
        "        stored_optimal_chord_fingerings[s] = optimal_chord_fingering(sorted_chord, right_hand)\n",
        "        return stored_optimal_chord_fingerings[s]\n",
        "\n",
        "\n",
        "def chord_fingerings(sorted_chord: Union[np.ndarray, list[str]],\n",
        "                     available_fingers: list[int] = [],\n",
        "                     right_hand: bool = True) -> tuple[np.ndarray, float]:\n",
        "    \"\"\"Return all possible fingerings of the same shape of sorted_chord, sorted\n",
        "    by playability score in descending order.\n",
        "    \"\"\"\n",
        "    # assert all(x in [0, 1, 2, 3, 4] for x in available_fingers)\n",
        "    if len(available_fingers) == 0:\n",
        "        available_fingers = np.array([0, 1, 2, 3, 4])\n",
        "    if isinstance(sorted_chord[0], str):\n",
        "        sorted_chord = np.array([key_to_int(x) for x in sorted_chord])\n",
        "    n = sorted_chord.shape[0]\n",
        "    fingerings = []\n",
        "\n",
        "    def _optimal_chord_fingering(first_note: int, fingering: list[int]) -> tuple[list[int], float]:\n",
        "        \"\"\"Top-down dynamic programming algorithm for playability.\"\"\"\n",
        "        new_fingering, new_score = [], -np.inf\n",
        "        for f in available_fingers:\n",
        "            score = chord_note_playability(f, sorted_chord, fingering, right_hand)\n",
        "            if score == -np.inf:\n",
        "                continue\n",
        "            if first_note == n - 1:\n",
        "                new_fingering, new_score = fingering + [f], score\n",
        "            else:\n",
        "                new_fingering, new_score = _optimal_chord_fingering(first_note + 1, fingering + [f])\n",
        "                new_score = min(score, new_score)\n",
        "            if new_score != -np.inf:\n",
        "                fingerings.append((new_fingering, new_score))\n",
        "\n",
        "        return new_fingering, new_score\n",
        "\n",
        "    _, _ = _optimal_chord_fingering(0, [])\n",
        "    return sorted(fingerings, key=lambda x: x[1], reverse=True)"
      ],
      "metadata": {
        "id": "OzZxytGNzM99",
        "cellView": "form"
      },
      "execution_count": 130,
      "outputs": []
    },
    {
      "cell_type": "code",
      "source": [
        "chord_note_playability(1, np.array([0, 3, 11]), [0])"
      ],
      "metadata": {
        "colab": {
          "base_uri": "https://localhost:8080/"
        },
        "id": "P_FJJbezxT3t",
        "outputId": "332f1750-846c-48a4-a552-7d697ba48383"
      },
      "execution_count": 56,
      "outputs": [
        {
          "output_type": "execute_result",
          "data": {
            "text/plain": [
              "1.0"
            ]
          },
          "metadata": {},
          "execution_count": 56
        }
      ]
    },
    {
      "cell_type": "code",
      "source": [
        "key_distance('E4', 'D5', True)"
      ],
      "metadata": {
        "colab": {
          "base_uri": "https://localhost:8080/"
        },
        "id": "lm9A1UQ79VH7",
        "outputId": "7e49c04e-9949-40cd-cf5c-93882b2a5806"
      },
      "execution_count": 41,
      "outputs": [
        {
          "output_type": "execute_result",
          "data": {
            "text/plain": [
              "14.14285659790039"
            ]
          },
          "metadata": {},
          "execution_count": 41
        }
      ]
    },
    {
      "cell_type": "code",
      "source": [
        "optimal_chord_fingering(['C0', 'G0', 'C1'], False)"
      ],
      "metadata": {
        "colab": {
          "base_uri": "https://localhost:8080/"
        },
        "id": "l7YkHNdUamKH",
        "outputId": "a461ab6a-7b80-438f-80f3-680bde2275b8"
      },
      "execution_count": 63,
      "outputs": [
        {
          "output_type": "execute_result",
          "data": {
            "text/plain": [
              "(array([4, 1, 0]), 0.7222222089767456)"
            ]
          },
          "metadata": {},
          "execution_count": 63
        }
      ]
    },
    {
      "cell_type": "code",
      "source": [
        "optimal_chord_fingering(['C0', 'D0', 'F0', 'G0', 'A', 'C1', 'D1'])"
      ],
      "metadata": {
        "colab": {
          "base_uri": "https://localhost:8080/"
        },
        "id": "qY7YQAR4wIYK",
        "outputId": "e7e72c34-df94-4ecb-b715-f648da0608ab"
      },
      "execution_count": 62,
      "outputs": [
        {
          "output_type": "execute_result",
          "data": {
            "text/plain": [
              "(array([], dtype=int64), -inf)"
            ]
          },
          "metadata": {},
          "execution_count": 62
        }
      ]
    },
    {
      "cell_type": "code",
      "source": [
        "parse_chord(['C0', 'F', 'G0', 'C1'], -1)"
      ],
      "metadata": {
        "colab": {
          "base_uri": "https://localhost:8080/"
        },
        "id": "7w9lAZ-2jLT9",
        "outputId": "6d31d491-c7f8-4c6e-fba2-a4dc7dd81748"
      },
      "execution_count": null,
      "outputs": [
        {
          "output_type": "execute_result",
          "data": {
            "text/plain": [
              "([], array([0, 1, 2, 4]), 0.7945666199928616, 0)"
            ]
          },
          "metadata": {},
          "execution_count": 11
        }
      ]
    },
    {
      "cell_type": "code",
      "source": [
        "parse_chord(['Eb3', 'Bb3', 'Gb4', 'Eb5', 'Gb5', 'Bb5', 'Eb6'])"
      ],
      "metadata": {
        "colab": {
          "base_uri": "https://localhost:8080/"
        },
        "id": "0FKXsDXgChnj",
        "outputId": "1205d58d-f534-4c80-ae06-fe164fae49f9"
      },
      "execution_count": 133,
      "outputs": [
        {
          "output_type": "execute_result",
          "data": {
            "text/plain": [
              "(array([4, 1, 0]), array([0, 1, 2, 4]), 0.018181540071964264, 3)"
            ]
          },
          "metadata": {},
          "execution_count": 133
        }
      ]
    },
    {
      "cell_type": "code",
      "source": [
        "#@title Passage Modelling V1\n",
        "\n",
        "def parse_chord(sorted_chord: Union[np.ndarray, list[str]],\n",
        "                direction: int = 0) -> tuple[list[int], list[int], float, int]:\n",
        "    \"\"\"Split a chord into the ideal left/right hand fingering.\n",
        "    Also return the associated playability score and the index of the chord\n",
        "    where the chord split is made.\n",
        "    Raise a ValueError if the given chord cannot be played by left + right hand.\n",
        "    \"\"\"\n",
        "    if isinstance(sorted_chord[0], str):\n",
        "        sorted_chord = np.array([key_to_int(x) for x in sorted_chord])\n",
        "\n",
        "    n = len(sorted_chord)\n",
        "    if direction == 0:\n",
        "        m = n // 2\n",
        "        start_i = np.argpartition(sorted_chord, m)[m]  # Index of median\n",
        "    elif direction > 0:\n",
        "        start_i = n\n",
        "    else:\n",
        "        start_i = 0\n",
        "\n",
        "    if n == 1:\n",
        "        if sorted_chord[0] >= 60:\n",
        "            return [], [0], 1, 0\n",
        "        return [0], [], 1, 1\n",
        "\n",
        "    def chord_split(i: int) -> tuple:\n",
        "        if i == 0:\n",
        "            right_fingering, right_score = memoized_optimal_chord_fingering(sorted_chord, True)\n",
        "            must_go_up = right_score == -np.inf\n",
        "            must_go_down = False\n",
        "            return [], right_fingering, 1, right_score, must_go_up, must_go_down\n",
        "        if i == len(sorted_chord):\n",
        "            left_fingering, left_score = memoized_optimal_chord_fingering(sorted_chord, False)\n",
        "            must_go_up = False\n",
        "            must_go_down = left_score == -np.inf\n",
        "            return left_fingering, [], left_score, 1, must_go_up, must_go_down\n",
        "\n",
        "        left = sorted_chord[:i]\n",
        "        right = sorted_chord[i:]\n",
        "        # print(f'{left}, {right}')\n",
        "        left_fingering, left_score = memoized_optimal_chord_fingering(left, False)\n",
        "        right_fingering, right_score = memoized_optimal_chord_fingering(right, True)\n",
        "        must_go_up = right_score == -np.inf\n",
        "        must_go_down = left_score == -np.inf\n",
        "        return left_fingering, right_fingering, left_score, right_score, must_go_up, must_go_down\n",
        "\n",
        "    direction = None\n",
        "    while start_i in range(n + 1):\n",
        "        left_fingering, right_fingering, left_score, right_score, must_go_up, must_go_down = chord_split(start_i)\n",
        "        # print(f'{sorted_chord[:start_i]}, {sorted_chord[start_i:]}, {must_go_up}, {must_go_down}')\n",
        "\n",
        "        if not must_go_up and not must_go_down:\n",
        "            break\n",
        "        if must_go_up and must_go_down:\n",
        "            raise ValueError()\n",
        "\n",
        "        if direction is None:\n",
        "            direction = must_go_up\n",
        "        elif direction != must_go_up:\n",
        "            raise ValueError()\n",
        "\n",
        "        if must_go_up:\n",
        "            start_i += 1\n",
        "        else:\n",
        "            start_i -= 1\n",
        "\n",
        "    return left_fingering, right_fingering, min(left_score, right_score), start_i\n",
        "\n",
        "\n",
        "def int_to_position(k: int, average: bool = True) -> float:\n",
        "    octave, k = divmod(k, 12)\n",
        "    offset = white_key_len if is_white_key(k) else black_key_len\n",
        "    if average:\n",
        "        return octave * octave_len + int_positions[k] + offset / 2\n",
        "    return octave * octave_len + int_positions[k]\n",
        "\n",
        "\n",
        "def get_hand_position(chord: Union[list[int], list[str]], fingering: list[int], right_hand: bool) -> float:\n",
        "    \"\"\"Return the predicted hand position (in cm, offsetted from C0) of the hand,\n",
        "    given it is playing an input chord with an input fingering.\n",
        "    \"\"\"\n",
        "    if isinstance(chord[0], str):\n",
        "        chord = [key_to_int(x) for x in chord]\n",
        "    assert all(x in range(5) for x in fingering)\n",
        "    left = fingering[0]\n",
        "    right = fingering[-1]\n",
        "    left_limit = int_to_position(left)\n",
        "    right_limit = int_to_position(right)\n",
        "\n",
        "    chord_left_position = int_to_position(chord[0])\n",
        "    chord_right_position = int_to_position(chord[-1])\n",
        "    offset = finger_comfortable_range[0, 0]\n",
        "    hand_len = finger_comfortable_range[4, 0] - offset\n",
        "    if right_hand:\n",
        "        left_progress = (finger_comfortable_range[left, 0] - offset) / hand_len\n",
        "        right_progress = (finger_comfortable_range[right, 0] - offset) / hand_len\n",
        "    else:\n",
        "        left_progress = 1 - (finger_comfortable_range[left, 0] - offset) / hand_len\n",
        "        right_progress = 1 - (finger_comfortable_range[right, 0] - offset) / hand_len\n",
        "\n",
        "    hand_left = chord_left_position - left_progress * hand_len\n",
        "    hand_right = chord_right_position + (1 - right_progress) * hand_len\n",
        "    return (hand_left + hand_right) / 2\n",
        "\n",
        "\n",
        "def parse_chords(chords: list[list[int]], delays: list[float]) -> tuple:\n",
        "    left_chords = []\n",
        "    right_chords = []\n",
        "    left_fingerings = []\n",
        "    right_fingerings = []\n",
        "\n",
        "    lh_position = None\n",
        "    rh_position = None\n",
        "\n",
        "    def single_note_chord(chord: list[int]) -> tuple:\n",
        "        min_change = np.infty\n",
        "        min_finger = None\n",
        "        min_hand = None\n",
        "        for finger in range(5):\n",
        "            curr_lh_position = get_hand_position(chord, [finger], False)\n",
        "            curr_rh_position = get_hand_position(chord, [finger], True)\n",
        "            left_change = abs(curr_lh_position - lh_position)\n",
        "            right_change = abs(curr_rh_position - rh_position)\n",
        "            if left_change < min_change:\n",
        "                min_change = left_change\n",
        "                min_finger = [finger]\n",
        "                min_hand = 'left'\n",
        "            if right_change < min_change:\n",
        "                min_change = right_change\n",
        "                min_finger = [finger]\n",
        "                min_hand = 'right'\n",
        "        if min_hand == 'left':\n",
        "            left_fingering, right_fingering, score = min_finger, [], 1\n",
        "            left_chord, right_chord = chord, []\n",
        "        else:\n",
        "            left_fingering, right_fingering, score = [], min_finger, 1\n",
        "            left_chord, right_chord = [], chord\n",
        "        return left_fingering, right_fingering, score, left_chord, right_chord\n",
        "\n",
        "    def regular_chord(chord: list[int]) -> tuple:\n",
        "        if lh_position is not None and rh_position is not None and lh_position < rh_position:\n",
        "            min_chord_position = int_to_position(np.min(chord))\n",
        "            max_chord_position = int_to_position(np.max(chord))\n",
        "            threshold = 0.4\n",
        "            right_extent = threshold * lh_position + (1 - threshold) * rh_position\n",
        "            left_extent = (1 - threshold) * lh_position + threshold * rh_position\n",
        "            if min_chord_position >= right_extent:\n",
        "                direction = -1\n",
        "            elif max_chord_position <= left_extent:\n",
        "                direction = 1\n",
        "            else:\n",
        "                direction = 0\n",
        "            left_fingering, right_fingering, score, j = parse_chord(np.array(chord), direction)\n",
        "        else:\n",
        "            left_fingering, right_fingering, score, j = parse_chord(np.array(chord))\n",
        "        left_chord, right_chord = chord[:j], chord[j:]\n",
        "        return left_fingering, right_fingering, score, left_chord, right_chord\n",
        "\n",
        "    def single_note_hand(left_chord: list[int], lh_position: float, left_fingerings: list[list[int]], right_hand: bool) -> float:\n",
        "        min_change = np.infty\n",
        "        min_lh_position = None\n",
        "        min_fingering = None\n",
        "        for finger in range(5):\n",
        "            curr_lh_position = get_hand_position(left_chord, [finger], right_hand)\n",
        "            curr_change = abs(curr_lh_position - lh_position)\n",
        "            if curr_change < min_change:\n",
        "                min_change = curr_change\n",
        "                min_lh_position = curr_lh_position\n",
        "                min_fingering = [finger]\n",
        "        # print(f'{i}: Previously {left_fingerings[-1]} at {left_chords[-1]}, best played {left_chord} at {min_fingering}')\n",
        "        left_fingerings.append(min_fingering)\n",
        "        return min_lh_position\n",
        "\n",
        "    for i, chord in enumerate(chords):\n",
        "        # Parse chord\n",
        "        if len(chord) == 1 and lh_position is not None and rh_position is not None:\n",
        "            left_fingering, right_fingering, score, left_chord, right_chord = single_note_chord(chord)\n",
        "        else:\n",
        "            try:\n",
        "                left_fingering, right_fingering, score, left_chord, right_chord = regular_chord(chord)\n",
        "            except ValueError:\n",
        "                print(f'Unplayable at {i} / {len(chords)}: {[int_to_key(x) for x in chord.tolist()]}')\n",
        "                left_chords.append(np.array([]).astype(int))\n",
        "                right_chords.append(np.array([]).astype(int))\n",
        "                left_fingerings.append(np.array([]).astype(int))\n",
        "                right_fingerings.append(np.array([]).astype(int))\n",
        "                continue\n",
        "        # print(f'{i}: {left_fingering}, {right_fingering}, {left_chord}, {right_chord}')\n",
        "\n",
        "        # Parsing left chord\n",
        "        if len(left_chord) == 1 and lh_position is not None:\n",
        "            # len(left_chords) > 0 and len(left_chords[-1]) == 1\n",
        "            lh_position = single_note_hand(left_chord, lh_position, left_fingerings, False)\n",
        "        else:\n",
        "            if len(left_chord) != 0:\n",
        "                new_lh_position = get_hand_position(left_chord, left_fingering, False)\n",
        "            else:\n",
        "                new_lh_position = lh_position\n",
        "            lh_position = new_lh_position\n",
        "            left_fingerings.append(left_fingering)\n",
        "\n",
        "        # Parsing right chord\n",
        "        if len(right_chord) == 1 and rh_position is not None and i >= 1:\n",
        "            # len(right_chords) > 0 and len(right_chords[-1]) == 1\n",
        "            rh_position = single_note_hand(right_chord, rh_position, right_fingerings, True)\n",
        "        else:\n",
        "            if len(right_chord) != 0:\n",
        "                new_rh_position = get_hand_position(right_chord, right_fingering, True)\n",
        "            else:\n",
        "                new_rh_position = rh_position\n",
        "            rh_position = new_rh_position\n",
        "            right_fingerings.append(right_fingering)\n",
        "\n",
        "        left_chords.append(left_chord)\n",
        "        right_chords.append(right_chord)\n",
        "\n",
        "    to_array = lambda lst: [np.array(x).astype(int) for x in lst]\n",
        "    return to_array(left_chords), to_array(left_fingerings), to_array(right_chords), to_array(right_fingerings)"
      ],
      "metadata": {
        "id": "XpSH5HwMMaS3",
        "cellView": "form"
      },
      "execution_count": 125,
      "outputs": []
    },
    {
      "cell_type": "code",
      "source": [
        "get_hand_position([64], [1], False)"
      ],
      "metadata": {
        "colab": {
          "base_uri": "https://localhost:8080/"
        },
        "id": "DIAm3HrB06Pp",
        "outputId": "24302221-e13b-478f-e5cd-1bb6ae465cbb"
      },
      "execution_count": null,
      "outputs": [
        {
          "output_type": "execute_result",
          "data": {
            "text/plain": [
              "91.09285714285714"
            ]
          },
          "metadata": {},
          "execution_count": 192
        }
      ]
    },
    {
      "cell_type": "code",
      "source": [
        "int_to_position(key_to_int('E'))"
      ],
      "metadata": {
        "colab": {
          "base_uri": "https://localhost:8080/"
        },
        "id": "a-iaL6rQqgMb",
        "outputId": "b3a568de-9241-4405-f21e-faa08d11d2e6"
      },
      "execution_count": null,
      "outputs": [
        {
          "output_type": "execute_result",
          "data": {
            "text/plain": [
              "5.892857142857143"
            ]
          },
          "metadata": {},
          "execution_count": 369
        }
      ]
    },
    {
      "cell_type": "code",
      "source": [
        "parse_chord(['C0', 'D0', 'E0'])"
      ],
      "metadata": {
        "colab": {
          "base_uri": "https://localhost:8080/"
        },
        "id": "mN7_Yr3IfHpx",
        "outputId": "e6dc2679-0feb-4b82-ccfe-a81ce54ed15b"
      },
      "execution_count": null,
      "outputs": [
        {
          "output_type": "execute_result",
          "data": {
            "text/plain": [
              "(array([0]), array([1, 2]), 1.0, 1)"
            ]
          },
          "metadata": {},
          "execution_count": 52
        }
      ]
    },
    {
      "cell_type": "code",
      "source": [
        "left_chords, left_fingerings, right_chords, right_fingerings = parse_chords(chords, [])"
      ],
      "metadata": {
        "colab": {
          "base_uri": "https://localhost:8080/"
        },
        "id": "tJLONREA5mbo",
        "outputId": "0b05419f-5037-49e1-bd94-12f34c3d816a"
      },
      "execution_count": 134,
      "outputs": [
        {
          "output_type": "stream",
          "name": "stdout",
          "text": [
            "Unplayable at 270 / 2953: ['D3', 'F#4', 'D6', 'A6', 'D7']\n"
          ]
        }
      ]
    },
    {
      "cell_type": "code",
      "source": [
        "#@title Passage Modelling V2\n",
        "\n",
        "# def parse_cho"
      ],
      "metadata": {
        "id": "0Rr0x8TOcPX6"
      },
      "execution_count": null,
      "outputs": []
    },
    {
      "cell_type": "code",
      "source": [
        "#@title Piano Roll Visualization\n",
        "from matplotlib.ticker import AutoMinorLocator\n",
        "from matplotlib.patches import Rectangle\n",
        "\n",
        "def plot_chords(left_chords: list[np.ndarray], right_chords: list[np.ndarray],\n",
        "                left_fingerings: list[np.ndarray], right_fingerings: np.ndarray,\n",
        "                start: int = -1, end: int = np.inf) -> None:\n",
        "    assert len(left_chords) == len(right_chords)\n",
        "    n = len(left_chords)\n",
        "    start = min(n - 1, max(0, start))\n",
        "    end = min(n, max(1, end))\n",
        "\n",
        "    plt.clf()\n",
        "    fig, ax = plt.subplots()\n",
        "    fig.set_size_inches(15, 5)\n",
        "    plt.grid(which='major', color='#bdbdbd', linestyle='-')\n",
        "    plt.grid(which='minor', color='lightgrey', linestyle='--')\n",
        "    plt.minorticks_on()\n",
        "    plt.ylabel('Note')\n",
        "    plt.xlabel('Time')\n",
        "    plt.yticks(range(0, 128, 4), [int_to_key(x) for x in range(0, 128, 4)])\n",
        "    ax.yaxis.set_minor_locator(AutoMinorLocator(4))\n",
        "\n",
        "    font_size = 7\n",
        "    left_col = '#1b1bd0'\n",
        "    right_col = '#d01b1b'\n",
        "    for i in range(start, end):\n",
        "        plt.scatter([i] * len(left_chords[i]), left_chords[i], s=0)\n",
        "        plt.scatter([i] * len(right_chords[i]), right_chords[i], s=0)\n",
        "\n",
        "        for j, note in enumerate(left_chords[i]):\n",
        "            ax.add_patch(Rectangle((i - 0.5, note - 0.5), 1, 1,\n",
        "                                   facecolor=left_col, alpha=0.3))\n",
        "            plt.text(i, note, left_fingerings[i][j] + 1,\n",
        "                     ha='center', va='center', c=left_col, size=font_size)\n",
        "\n",
        "        for j, note in enumerate(right_chords[i]):\n",
        "            ax.add_patch(Rectangle((i - 0.5, note - 0.5), 1, 1,\n",
        "                                   facecolor=right_col, alpha=0.3))\n",
        "            plt.text(i, note, right_fingerings[i][j] + 1,\n",
        "                     ha='center', va='center', c=right_col, size=font_size)\n",
        "\n",
        "\n",
        "def plot_chords_timed(left_chords: list[np.ndarray], right_chords: list[np.ndarray],\n",
        "                      left_fingerings: list[np.ndarray], right_fingerings: np.ndarray,\n",
        "                      notes: np.ndarray, timing: np.ndarray, indices: list[int],\n",
        "                      start: int = -1, end: int = np.inf) -> None:\n",
        "    n = len(left_chords)\n",
        "    start = min(n - 1, max(0, start))\n",
        "    end = min(n, max(1, end))\n",
        "\n",
        "    plt.clf()\n",
        "    fig, ax = plt.subplots()\n",
        "    fig.set_size_inches(15, 5)\n",
        "    plt.grid(which='major', color='#bdbdbd', linestyle='-')\n",
        "    plt.grid(which='minor', color='lightgrey', linestyle='--')\n",
        "    plt.minorticks_on()\n",
        "    plt.ylabel('Note')\n",
        "    plt.xlabel('Time')\n",
        "    plt.yticks(range(0, 128, 4), [int_to_key(x) for x in range(0, 128, 4)])\n",
        "    ax.yaxis.set_minor_locator(AutoMinorLocator(4))\n",
        "\n",
        "    font_size = 7\n",
        "    left_col = '#1b1bd0'\n",
        "    right_col = '#d01b1b'\n",
        "    for i in range(start, end):\n",
        "        time_start = {}\n",
        "        duration = {}\n",
        "        for j in range(indices[i], indices[min(i + 1, len(indices) - 1)]):\n",
        "            note = int(notes[j])\n",
        "            time_start[note] = timing[j, 0]\n",
        "            duration[note] = timing[j, 1]\n",
        "\n",
        "        left_time_start = []\n",
        "        right_time_start = []\n",
        "        for j, note in enumerate(left_chords[i]):\n",
        "            fingering = left_fingerings[i][j]\n",
        "            ax.add_patch(Rectangle((time_start[note], note - 0.5), duration[note], 1,\n",
        "                                   facecolor=left_col, alpha=0.3))\n",
        "            plt.text(time_start[note], note, fingering + 1,\n",
        "                     ha='center', va='center', c=left_col, size=font_size)\n",
        "            left_time_start.append(time_start[note])\n",
        "\n",
        "        for j, note in enumerate(right_chords[i]):\n",
        "            fingering = right_fingerings[i][j]\n",
        "            ax.add_patch(Rectangle((time_start[note], note - 0.5), duration[note], 1,\n",
        "                                   facecolor=right_col, alpha=0.3))\n",
        "            plt.text(time_start[note], note, fingering + 1,\n",
        "                     ha='center', va='center', c=right_col, size=font_size)\n",
        "            right_time_start.append(time_start[note])\n",
        "\n",
        "        if len(left_time_start) > 0:\n",
        "            plt.scatter(left_time_start, left_chords[i], s=0)\n",
        "        if len(right_time_start) > 0:\n",
        "            plt.scatter(right_time_start, right_chords[i], s=0)"
      ],
      "metadata": {
        "cellView": "form",
        "id": "RkzBaYVbbEu3"
      },
      "execution_count": 110,
      "outputs": []
    },
    {
      "cell_type": "code",
      "source": [
        "plot_chords_timed(left_chords, right_chords, left_fingerings, right_fingerings,\n",
        "                  notes[:, 0], notes[:, 4:6], indices, 0, 100)"
      ],
      "metadata": {
        "colab": {
          "base_uri": "https://localhost:8080/",
          "height": 487
        },
        "id": "jO3h_RDQEU_I",
        "outputId": "71959492-7070-4893-d11f-06da94b570f9"
      },
      "execution_count": 111,
      "outputs": [
        {
          "output_type": "display_data",
          "data": {
            "text/plain": [
              "<Figure size 640x480 with 0 Axes>"
            ]
          },
          "metadata": {}
        },
        {
          "output_type": "display_data",
          "data": {
            "text/plain": [
              "<Figure size 1500x500 with 1 Axes>"
            ],
            "image/png": "[encoded data removed]"
          },
          "metadata": {}
        }
      ]
    },
    {
      "cell_type": "code",
      "source": [
        "plot_chords(left_chords, right_chords, left_fingerings, right_fingerings, 0, 100)"
      ],
      "metadata": {
        "colab": {
          "base_uri": "https://localhost:8080/",
          "height": 482
        },
        "id": "daLqgL54eLz7",
        "outputId": "8788256d-142c-4294-98d3-029d3733a227"
      },
      "execution_count": null,
      "outputs": [
        {
          "output_type": "display_data",
          "data": {
            "text/plain": [
              "<Figure size 640x480 with 0 Axes>"
            ]
          },
          "metadata": {}
        },
        {
          "output_type": "display_data",
          "data": {
            "text/plain": [
              "<Figure size 1500x500 with 1 Axes>"
            ],
            "image/png": "[encoded data removed]"
          },
          "metadata": {}
        }
      ]
    }
  ]
}